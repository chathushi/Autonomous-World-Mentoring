{
  "nbformat": 4,
  "nbformat_minor": 0,
  "metadata": {
    "colab": {
      "provenance": [],
      "include_colab_link": true
    },
    "kernelspec": {
      "name": "python3",
      "display_name": "Python 3"
    },
    "language_info": {
      "name": "python"
    }
  },
  "cells": [
    {
      "cell_type": "markdown",
      "metadata": {
        "id": "view-in-github",
        "colab_type": "text"
      },
      "source": [
        "<a href=\"https://colab.research.google.com/github/chathushi/Autonomous-World-Mentoring/blob/main/DATA_6100_Project1_Final_Submission.ipynb\" target=\"_parent\"><img src=\"https://colab.research.google.com/assets/colab-badge.svg\" alt=\"Open In Colab\"/></a>"
      ]
    },
    {
      "cell_type": "markdown",
      "source": [
        "# Ames Housing Price Prediction\n",
        "**Chathushi Thalpage | DATA6100 Project 1| University of Guelph**\n",
        "\n",
        "This notebook predicts house prices using Linear Regression with feature engineering, outlier handling, and forward feature selection."
      ],
      "metadata": {
        "id": "AtWj5oq2VC63"
      }
    },
    {
      "cell_type": "markdown",
      "source": [
        "**Initial Data Loading & Exploration**"
      ],
      "metadata": {
        "id": "KeAK7bEpxGJ3"
      }
    },
    {
      "cell_type": "code",
      "source": [
        "# Initial Data Loading & Exploration\n",
        "import pandas as pd\n",
        "import numpy as np\n",
        "import matplotlib.pyplot as plt\n",
        "from google.colab import drive\n",
        "from sklearn.model_selection import train_test_split, KFold, cross_val_score\n",
        "from sklearn.linear_model import LinearRegression\n",
        "from sklearn.metrics import mean_squared_error, make_scorer\n",
        "from sklearn.preprocessing import StandardScaler\n",
        "\n",
        "# Mount Google Drive\n",
        "drive.mount('/content/drive')\n",
        "\n",
        "# Load training and test datasets\n",
        "train = pd.read_csv('/content/drive/MyDrive/Colab Notebooks/Housing_Data_Train.csv')\n",
        "test = pd.read_csv('/content/drive/MyDrive/Colab Notebooks/Housing_Data_Test.csv')\n",
        "\n",
        "print(\"\\nShape of training data:\", train.shape)\n",
        "print(\"Shape of test data:\", test.shape)\n"
      ],
      "metadata": {
        "id": "6cpIbHDIxMba",
        "colab": {
          "base_uri": "https://localhost:8080/"
        },
        "outputId": "2215048f-ff3b-4a8a-8d41-c68a5f645da5"
      },
      "execution_count": null,
      "outputs": [
        {
          "output_type": "stream",
          "name": "stdout",
          "text": [
            "Drive already mounted at /content/drive; to attempt to forcibly remount, call drive.mount(\"/content/drive\", force_remount=True).\n",
            "\n",
            "Shape of training data: (1000, 82)\n",
            "Shape of test data: (446, 81)\n"
          ]
        }
      ]
    },
    {
      "cell_type": "code",
      "source": [
        "train.info()\n",
        "train.describe()"
      ],
      "metadata": {
        "id": "BCjDw8GLQM6v",
        "colab": {
          "base_uri": "https://localhost:8080/",
          "height": 1000
        },
        "outputId": "2796058a-c948-4b54-df1e-c382fdd239c4"
      },
      "execution_count": null,
      "outputs": [
        {
          "output_type": "stream",
          "name": "stdout",
          "text": [
            "<class 'pandas.core.frame.DataFrame'>\n",
            "RangeIndex: 1000 entries, 0 to 999\n",
            "Data columns (total 82 columns):\n",
            " #   Column         Non-Null Count  Dtype  \n",
            "---  ------         --------------  -----  \n",
            " 0   Unnamed: 0     1000 non-null   int64  \n",
            " 1   Id             1000 non-null   int64  \n",
            " 2   MSSubClass     1000 non-null   int64  \n",
            " 3   MSZoning       1000 non-null   object \n",
            " 4   LotFrontage    814 non-null    float64\n",
            " 5   LotArea        1000 non-null   int64  \n",
            " 6   Street         1000 non-null   object \n",
            " 7   Alley          66 non-null     object \n",
            " 8   LotShape       1000 non-null   object \n",
            " 9   LandContour    1000 non-null   object \n",
            " 10  Utilities      1000 non-null   object \n",
            " 11  LotConfig      1000 non-null   object \n",
            " 12  LandSlope      1000 non-null   object \n",
            " 13  Neighborhood   1000 non-null   object \n",
            " 14  Condition1     1000 non-null   object \n",
            " 15  Condition2     1000 non-null   object \n",
            " 16  BldgType       1000 non-null   object \n",
            " 17  HouseStyle     1000 non-null   object \n",
            " 18  OverallQual    1000 non-null   int64  \n",
            " 19  OverallCond    1000 non-null   int64  \n",
            " 20  YearBuilt      1000 non-null   int64  \n",
            " 21  YearRemodAdd   1000 non-null   int64  \n",
            " 22  RoofStyle      1000 non-null   object \n",
            " 23  RoofMatl       1000 non-null   object \n",
            " 24  Exterior1st    1000 non-null   object \n",
            " 25  Exterior2nd    1000 non-null   object \n",
            " 26  MasVnrType     404 non-null    object \n",
            " 27  MasVnrArea     994 non-null    float64\n",
            " 28  ExterQual      1000 non-null   object \n",
            " 29  ExterCond      1000 non-null   object \n",
            " 30  Foundation     1000 non-null   object \n",
            " 31  BsmtQual       975 non-null    object \n",
            " 32  BsmtCond       975 non-null    object \n",
            " 33  BsmtExposure   974 non-null    object \n",
            " 34  BsmtFinType1   975 non-null    object \n",
            " 35  BsmtFinSF1     1000 non-null   int64  \n",
            " 36  BsmtFinType2   974 non-null    object \n",
            " 37  BsmtFinSF2     1000 non-null   int64  \n",
            " 38  BsmtUnfSF      1000 non-null   int64  \n",
            " 39  TotalBsmtSF    1000 non-null   int64  \n",
            " 40  Heating        1000 non-null   object \n",
            " 41  HeatingQC      1000 non-null   object \n",
            " 42  CentralAir     1000 non-null   object \n",
            " 43  Electrical     999 non-null    object \n",
            " 44  1stFlrSF       1000 non-null   int64  \n",
            " 45  2ndFlrSF       1000 non-null   int64  \n",
            " 46  LowQualFinSF   1000 non-null   int64  \n",
            " 47  GrLivArea      1000 non-null   int64  \n",
            " 48  BsmtFullBath   1000 non-null   int64  \n",
            " 49  BsmtHalfBath   1000 non-null   int64  \n",
            " 50  FullBath       1000 non-null   int64  \n",
            " 51  HalfBath       1000 non-null   int64  \n",
            " 52  BedroomAbvGr   1000 non-null   int64  \n",
            " 53  KitchenAbvGr   1000 non-null   int64  \n",
            " 54  KitchenQual    1000 non-null   object \n",
            " 55  TotRmsAbvGrd   1000 non-null   int64  \n",
            " 56  Functional     1000 non-null   object \n",
            " 57  Fireplaces     1000 non-null   int64  \n",
            " 58  FireplaceQu    535 non-null    object \n",
            " 59  GarageType     939 non-null    object \n",
            " 60  GarageYrBlt    939 non-null    float64\n",
            " 61  GarageFinish   939 non-null    object \n",
            " 62  GarageCars     1000 non-null   int64  \n",
            " 63  GarageArea     1000 non-null   int64  \n",
            " 64  GarageQual     939 non-null    object \n",
            " 65  GarageCond     939 non-null    object \n",
            " 66  PavedDrive     1000 non-null   object \n",
            " 67  WoodDeckSF     1000 non-null   int64  \n",
            " 68  OpenPorchSF    1000 non-null   int64  \n",
            " 69  EnclosedPorch  1000 non-null   int64  \n",
            " 70  3SsnPorch      1000 non-null   int64  \n",
            " 71  ScreenPorch    1000 non-null   int64  \n",
            " 72  PoolArea       1000 non-null   int64  \n",
            " 73  PoolQC         5 non-null      object \n",
            " 74  Fence          185 non-null    object \n",
            " 75  MiscFeature    36 non-null     object \n",
            " 76  MiscVal        1000 non-null   int64  \n",
            " 77  MoSold         1000 non-null   int64  \n",
            " 78  YrSold         1000 non-null   int64  \n",
            " 79  SaleType       1000 non-null   object \n",
            " 80  SaleCondition  1000 non-null   object \n",
            " 81  SalePrice      1000 non-null   int64  \n",
            "dtypes: float64(3), int64(36), object(43)\n",
            "memory usage: 640.8+ KB\n"
          ]
        },
        {
          "output_type": "execute_result",
          "data": {
            "text/plain": [
              "        Unnamed: 0           Id   MSSubClass  LotFrontage        LotArea  \\\n",
              "count  1000.000000  1000.000000  1000.000000   814.000000    1000.000000   \n",
              "mean    499.500000   725.853000    58.165000    70.120393   10778.454000   \n",
              "std     288.819436   422.179162    43.579318    25.730561   11647.964726   \n",
              "min       0.000000     1.000000    20.000000    21.000000    1477.000000   \n",
              "25%     249.750000   353.750000    20.000000    59.000000    7559.500000   \n",
              "50%     499.500000   732.500000    50.000000    70.000000    9544.500000   \n",
              "75%     749.250000  1089.500000    70.000000    80.000000   11475.750000   \n",
              "max     999.000000  1455.000000   190.000000   313.000000  215245.000000   \n",
              "\n",
              "       OverallQual  OverallCond    YearBuilt  YearRemodAdd   MasVnrArea  ...  \\\n",
              "count  1000.000000  1000.000000  1000.000000   1000.000000   994.000000  ...   \n",
              "mean      6.088000     5.578000  1970.550000   1984.620000   100.989940  ...   \n",
              "std       1.365328     1.108668    30.609908     20.682296   169.554306  ...   \n",
              "min       1.000000     1.000000  1872.000000   1950.000000     0.000000  ...   \n",
              "25%       5.000000     5.000000  1953.000000   1966.750000     0.000000  ...   \n",
              "50%       6.000000     5.000000  1972.000000   1993.000000     0.000000  ...   \n",
              "75%       7.000000     6.000000  2000.000000   2004.000000   167.500000  ...   \n",
              "max      10.000000     9.000000  2009.000000   2010.000000  1115.000000  ...   \n",
              "\n",
              "        WoodDeckSF  OpenPorchSF  EnclosedPorch    3SsnPorch  ScreenPorch  \\\n",
              "count  1000.000000  1000.000000    1000.000000  1000.000000   1000.00000   \n",
              "mean     93.351000    46.471000      23.112000     2.898000     14.37500   \n",
              "std     125.172089    64.132598      62.992535    26.742827     55.44746   \n",
              "min       0.000000     0.000000       0.000000     0.000000      0.00000   \n",
              "25%       0.000000     0.000000       0.000000     0.000000      0.00000   \n",
              "50%       0.000000    24.000000       0.000000     0.000000      0.00000   \n",
              "75%     168.000000    70.000000       0.000000     0.000000      0.00000   \n",
              "max     857.000000   547.000000     552.000000   508.000000    480.00000   \n",
              "\n",
              "          PoolArea      MiscVal       MoSold       YrSold      SalePrice  \n",
              "count  1000.000000   1000.00000  1000.000000  1000.000000    1000.000000  \n",
              "mean      2.735000     42.00000     6.307000  2007.832000  178403.271000  \n",
              "std      38.827985    521.97074     2.729139     1.332498   71476.841901  \n",
              "min       0.000000      0.00000     1.000000  2006.000000   52500.000000  \n",
              "25%       0.000000      0.00000     5.000000  2007.000000  128987.500000  \n",
              "50%       0.000000      0.00000     6.000000  2008.000000  162000.000000  \n",
              "75%       0.000000      0.00000     8.000000  2009.000000  214000.000000  \n",
              "max     648.000000  15500.00000    12.000000  2010.000000  485000.000000  \n",
              "\n",
              "[8 rows x 39 columns]"
            ],
            "text/html": [
              "\n",
              "  <div id=\"df-6cb067dd-0c07-41cc-9f57-55cd3b8d25b6\" class=\"colab-df-container\">\n",
              "    <div>\n",
              "<style scoped>\n",
              "    .dataframe tbody tr th:only-of-type {\n",
              "        vertical-align: middle;\n",
              "    }\n",
              "\n",
              "    .dataframe tbody tr th {\n",
              "        vertical-align: top;\n",
              "    }\n",
              "\n",
              "    .dataframe thead th {\n",
              "        text-align: right;\n",
              "    }\n",
              "</style>\n",
              "<table border=\"1\" class=\"dataframe\">\n",
              "  <thead>\n",
              "    <tr style=\"text-align: right;\">\n",
              "      <th></th>\n",
              "      <th>Unnamed: 0</th>\n",
              "      <th>Id</th>\n",
              "      <th>MSSubClass</th>\n",
              "      <th>LotFrontage</th>\n",
              "      <th>LotArea</th>\n",
              "      <th>OverallQual</th>\n",
              "      <th>OverallCond</th>\n",
              "      <th>YearBuilt</th>\n",
              "      <th>YearRemodAdd</th>\n",
              "      <th>MasVnrArea</th>\n",
              "      <th>...</th>\n",
              "      <th>WoodDeckSF</th>\n",
              "      <th>OpenPorchSF</th>\n",
              "      <th>EnclosedPorch</th>\n",
              "      <th>3SsnPorch</th>\n",
              "      <th>ScreenPorch</th>\n",
              "      <th>PoolArea</th>\n",
              "      <th>MiscVal</th>\n",
              "      <th>MoSold</th>\n",
              "      <th>YrSold</th>\n",
              "      <th>SalePrice</th>\n",
              "    </tr>\n",
              "  </thead>\n",
              "  <tbody>\n",
              "    <tr>\n",
              "      <th>count</th>\n",
              "      <td>1000.000000</td>\n",
              "      <td>1000.000000</td>\n",
              "      <td>1000.000000</td>\n",
              "      <td>814.000000</td>\n",
              "      <td>1000.000000</td>\n",
              "      <td>1000.000000</td>\n",
              "      <td>1000.000000</td>\n",
              "      <td>1000.000000</td>\n",
              "      <td>1000.000000</td>\n",
              "      <td>994.000000</td>\n",
              "      <td>...</td>\n",
              "      <td>1000.000000</td>\n",
              "      <td>1000.000000</td>\n",
              "      <td>1000.000000</td>\n",
              "      <td>1000.000000</td>\n",
              "      <td>1000.00000</td>\n",
              "      <td>1000.000000</td>\n",
              "      <td>1000.00000</td>\n",
              "      <td>1000.000000</td>\n",
              "      <td>1000.000000</td>\n",
              "      <td>1000.000000</td>\n",
              "    </tr>\n",
              "    <tr>\n",
              "      <th>mean</th>\n",
              "      <td>499.500000</td>\n",
              "      <td>725.853000</td>\n",
              "      <td>58.165000</td>\n",
              "      <td>70.120393</td>\n",
              "      <td>10778.454000</td>\n",
              "      <td>6.088000</td>\n",
              "      <td>5.578000</td>\n",
              "      <td>1970.550000</td>\n",
              "      <td>1984.620000</td>\n",
              "      <td>100.989940</td>\n",
              "      <td>...</td>\n",
              "      <td>93.351000</td>\n",
              "      <td>46.471000</td>\n",
              "      <td>23.112000</td>\n",
              "      <td>2.898000</td>\n",
              "      <td>14.37500</td>\n",
              "      <td>2.735000</td>\n",
              "      <td>42.00000</td>\n",
              "      <td>6.307000</td>\n",
              "      <td>2007.832000</td>\n",
              "      <td>178403.271000</td>\n",
              "    </tr>\n",
              "    <tr>\n",
              "      <th>std</th>\n",
              "      <td>288.819436</td>\n",
              "      <td>422.179162</td>\n",
              "      <td>43.579318</td>\n",
              "      <td>25.730561</td>\n",
              "      <td>11647.964726</td>\n",
              "      <td>1.365328</td>\n",
              "      <td>1.108668</td>\n",
              "      <td>30.609908</td>\n",
              "      <td>20.682296</td>\n",
              "      <td>169.554306</td>\n",
              "      <td>...</td>\n",
              "      <td>125.172089</td>\n",
              "      <td>64.132598</td>\n",
              "      <td>62.992535</td>\n",
              "      <td>26.742827</td>\n",
              "      <td>55.44746</td>\n",
              "      <td>38.827985</td>\n",
              "      <td>521.97074</td>\n",
              "      <td>2.729139</td>\n",
              "      <td>1.332498</td>\n",
              "      <td>71476.841901</td>\n",
              "    </tr>\n",
              "    <tr>\n",
              "      <th>min</th>\n",
              "      <td>0.000000</td>\n",
              "      <td>1.000000</td>\n",
              "      <td>20.000000</td>\n",
              "      <td>21.000000</td>\n",
              "      <td>1477.000000</td>\n",
              "      <td>1.000000</td>\n",
              "      <td>1.000000</td>\n",
              "      <td>1872.000000</td>\n",
              "      <td>1950.000000</td>\n",
              "      <td>0.000000</td>\n",
              "      <td>...</td>\n",
              "      <td>0.000000</td>\n",
              "      <td>0.000000</td>\n",
              "      <td>0.000000</td>\n",
              "      <td>0.000000</td>\n",
              "      <td>0.00000</td>\n",
              "      <td>0.000000</td>\n",
              "      <td>0.00000</td>\n",
              "      <td>1.000000</td>\n",
              "      <td>2006.000000</td>\n",
              "      <td>52500.000000</td>\n",
              "    </tr>\n",
              "    <tr>\n",
              "      <th>25%</th>\n",
              "      <td>249.750000</td>\n",
              "      <td>353.750000</td>\n",
              "      <td>20.000000</td>\n",
              "      <td>59.000000</td>\n",
              "      <td>7559.500000</td>\n",
              "      <td>5.000000</td>\n",
              "      <td>5.000000</td>\n",
              "      <td>1953.000000</td>\n",
              "      <td>1966.750000</td>\n",
              "      <td>0.000000</td>\n",
              "      <td>...</td>\n",
              "      <td>0.000000</td>\n",
              "      <td>0.000000</td>\n",
              "      <td>0.000000</td>\n",
              "      <td>0.000000</td>\n",
              "      <td>0.00000</td>\n",
              "      <td>0.000000</td>\n",
              "      <td>0.00000</td>\n",
              "      <td>5.000000</td>\n",
              "      <td>2007.000000</td>\n",
              "      <td>128987.500000</td>\n",
              "    </tr>\n",
              "    <tr>\n",
              "      <th>50%</th>\n",
              "      <td>499.500000</td>\n",
              "      <td>732.500000</td>\n",
              "      <td>50.000000</td>\n",
              "      <td>70.000000</td>\n",
              "      <td>9544.500000</td>\n",
              "      <td>6.000000</td>\n",
              "      <td>5.000000</td>\n",
              "      <td>1972.000000</td>\n",
              "      <td>1993.000000</td>\n",
              "      <td>0.000000</td>\n",
              "      <td>...</td>\n",
              "      <td>0.000000</td>\n",
              "      <td>24.000000</td>\n",
              "      <td>0.000000</td>\n",
              "      <td>0.000000</td>\n",
              "      <td>0.00000</td>\n",
              "      <td>0.000000</td>\n",
              "      <td>0.00000</td>\n",
              "      <td>6.000000</td>\n",
              "      <td>2008.000000</td>\n",
              "      <td>162000.000000</td>\n",
              "    </tr>\n",
              "    <tr>\n",
              "      <th>75%</th>\n",
              "      <td>749.250000</td>\n",
              "      <td>1089.500000</td>\n",
              "      <td>70.000000</td>\n",
              "      <td>80.000000</td>\n",
              "      <td>11475.750000</td>\n",
              "      <td>7.000000</td>\n",
              "      <td>6.000000</td>\n",
              "      <td>2000.000000</td>\n",
              "      <td>2004.000000</td>\n",
              "      <td>167.500000</td>\n",
              "      <td>...</td>\n",
              "      <td>168.000000</td>\n",
              "      <td>70.000000</td>\n",
              "      <td>0.000000</td>\n",
              "      <td>0.000000</td>\n",
              "      <td>0.00000</td>\n",
              "      <td>0.000000</td>\n",
              "      <td>0.00000</td>\n",
              "      <td>8.000000</td>\n",
              "      <td>2009.000000</td>\n",
              "      <td>214000.000000</td>\n",
              "    </tr>\n",
              "    <tr>\n",
              "      <th>max</th>\n",
              "      <td>999.000000</td>\n",
              "      <td>1455.000000</td>\n",
              "      <td>190.000000</td>\n",
              "      <td>313.000000</td>\n",
              "      <td>215245.000000</td>\n",
              "      <td>10.000000</td>\n",
              "      <td>9.000000</td>\n",
              "      <td>2009.000000</td>\n",
              "      <td>2010.000000</td>\n",
              "      <td>1115.000000</td>\n",
              "      <td>...</td>\n",
              "      <td>857.000000</td>\n",
              "      <td>547.000000</td>\n",
              "      <td>552.000000</td>\n",
              "      <td>508.000000</td>\n",
              "      <td>480.00000</td>\n",
              "      <td>648.000000</td>\n",
              "      <td>15500.00000</td>\n",
              "      <td>12.000000</td>\n",
              "      <td>2010.000000</td>\n",
              "      <td>485000.000000</td>\n",
              "    </tr>\n",
              "  </tbody>\n",
              "</table>\n",
              "<p>8 rows × 39 columns</p>\n",
              "</div>\n",
              "    <div class=\"colab-df-buttons\">\n",
              "\n",
              "  <div class=\"colab-df-container\">\n",
              "    <button class=\"colab-df-convert\" onclick=\"convertToInteractive('df-6cb067dd-0c07-41cc-9f57-55cd3b8d25b6')\"\n",
              "            title=\"Convert this dataframe to an interactive table.\"\n",
              "            style=\"display:none;\">\n",
              "\n",
              "  <svg xmlns=\"http://www.w3.org/2000/svg\" height=\"24px\" viewBox=\"0 -960 960 960\">\n",
              "    <path d=\"M120-120v-720h720v720H120Zm60-500h600v-160H180v160Zm220 220h160v-160H400v160Zm0 220h160v-160H400v160ZM180-400h160v-160H180v160Zm440 0h160v-160H620v160ZM180-180h160v-160H180v160Zm440 0h160v-160H620v160Z\"/>\n",
              "  </svg>\n",
              "    </button>\n",
              "\n",
              "  <style>\n",
              "    .colab-df-container {\n",
              "      display:flex;\n",
              "      gap: 12px;\n",
              "    }\n",
              "\n",
              "    .colab-df-convert {\n",
              "      background-color: #E8F0FE;\n",
              "      border: none;\n",
              "      border-radius: 50%;\n",
              "      cursor: pointer;\n",
              "      display: none;\n",
              "      fill: #1967D2;\n",
              "      height: 32px;\n",
              "      padding: 0 0 0 0;\n",
              "      width: 32px;\n",
              "    }\n",
              "\n",
              "    .colab-df-convert:hover {\n",
              "      background-color: #E2EBFA;\n",
              "      box-shadow: 0px 1px 2px rgba(60, 64, 67, 0.3), 0px 1px 3px 1px rgba(60, 64, 67, 0.15);\n",
              "      fill: #174EA6;\n",
              "    }\n",
              "\n",
              "    .colab-df-buttons div {\n",
              "      margin-bottom: 4px;\n",
              "    }\n",
              "\n",
              "    [theme=dark] .colab-df-convert {\n",
              "      background-color: #3B4455;\n",
              "      fill: #D2E3FC;\n",
              "    }\n",
              "\n",
              "    [theme=dark] .colab-df-convert:hover {\n",
              "      background-color: #434B5C;\n",
              "      box-shadow: 0px 1px 3px 1px rgba(0, 0, 0, 0.15);\n",
              "      filter: drop-shadow(0px 1px 2px rgba(0, 0, 0, 0.3));\n",
              "      fill: #FFFFFF;\n",
              "    }\n",
              "  </style>\n",
              "\n",
              "    <script>\n",
              "      const buttonEl =\n",
              "        document.querySelector('#df-6cb067dd-0c07-41cc-9f57-55cd3b8d25b6 button.colab-df-convert');\n",
              "      buttonEl.style.display =\n",
              "        google.colab.kernel.accessAllowed ? 'block' : 'none';\n",
              "\n",
              "      async function convertToInteractive(key) {\n",
              "        const element = document.querySelector('#df-6cb067dd-0c07-41cc-9f57-55cd3b8d25b6');\n",
              "        const dataTable =\n",
              "          await google.colab.kernel.invokeFunction('convertToInteractive',\n",
              "                                                    [key], {});\n",
              "        if (!dataTable) return;\n",
              "\n",
              "        const docLinkHtml = 'Like what you see? Visit the ' +\n",
              "          '<a target=\"_blank\" href=https://colab.research.google.com/notebooks/data_table.ipynb>data table notebook</a>'\n",
              "          + ' to learn more about interactive tables.';\n",
              "        element.innerHTML = '';\n",
              "        dataTable['output_type'] = 'display_data';\n",
              "        await google.colab.output.renderOutput(dataTable, element);\n",
              "        const docLink = document.createElement('div');\n",
              "        docLink.innerHTML = docLinkHtml;\n",
              "        element.appendChild(docLink);\n",
              "      }\n",
              "    </script>\n",
              "  </div>\n",
              "\n",
              "\n",
              "    <div id=\"df-00fc5c86-2500-45f8-8945-d19ca9c9d2a2\">\n",
              "      <button class=\"colab-df-quickchart\" onclick=\"quickchart('df-00fc5c86-2500-45f8-8945-d19ca9c9d2a2')\"\n",
              "                title=\"Suggest charts\"\n",
              "                style=\"display:none;\">\n",
              "\n",
              "<svg xmlns=\"http://www.w3.org/2000/svg\" height=\"24px\"viewBox=\"0 0 24 24\"\n",
              "     width=\"24px\">\n",
              "    <g>\n",
              "        <path d=\"M19 3H5c-1.1 0-2 .9-2 2v14c0 1.1.9 2 2 2h14c1.1 0 2-.9 2-2V5c0-1.1-.9-2-2-2zM9 17H7v-7h2v7zm4 0h-2V7h2v10zm4 0h-2v-4h2v4z\"/>\n",
              "    </g>\n",
              "</svg>\n",
              "      </button>\n",
              "\n",
              "<style>\n",
              "  .colab-df-quickchart {\n",
              "      --bg-color: #E8F0FE;\n",
              "      --fill-color: #1967D2;\n",
              "      --hover-bg-color: #E2EBFA;\n",
              "      --hover-fill-color: #174EA6;\n",
              "      --disabled-fill-color: #AAA;\n",
              "      --disabled-bg-color: #DDD;\n",
              "  }\n",
              "\n",
              "  [theme=dark] .colab-df-quickchart {\n",
              "      --bg-color: #3B4455;\n",
              "      --fill-color: #D2E3FC;\n",
              "      --hover-bg-color: #434B5C;\n",
              "      --hover-fill-color: #FFFFFF;\n",
              "      --disabled-bg-color: #3B4455;\n",
              "      --disabled-fill-color: #666;\n",
              "  }\n",
              "\n",
              "  .colab-df-quickchart {\n",
              "    background-color: var(--bg-color);\n",
              "    border: none;\n",
              "    border-radius: 50%;\n",
              "    cursor: pointer;\n",
              "    display: none;\n",
              "    fill: var(--fill-color);\n",
              "    height: 32px;\n",
              "    padding: 0;\n",
              "    width: 32px;\n",
              "  }\n",
              "\n",
              "  .colab-df-quickchart:hover {\n",
              "    background-color: var(--hover-bg-color);\n",
              "    box-shadow: 0 1px 2px rgba(60, 64, 67, 0.3), 0 1px 3px 1px rgba(60, 64, 67, 0.15);\n",
              "    fill: var(--button-hover-fill-color);\n",
              "  }\n",
              "\n",
              "  .colab-df-quickchart-complete:disabled,\n",
              "  .colab-df-quickchart-complete:disabled:hover {\n",
              "    background-color: var(--disabled-bg-color);\n",
              "    fill: var(--disabled-fill-color);\n",
              "    box-shadow: none;\n",
              "  }\n",
              "\n",
              "  .colab-df-spinner {\n",
              "    border: 2px solid var(--fill-color);\n",
              "    border-color: transparent;\n",
              "    border-bottom-color: var(--fill-color);\n",
              "    animation:\n",
              "      spin 1s steps(1) infinite;\n",
              "  }\n",
              "\n",
              "  @keyframes spin {\n",
              "    0% {\n",
              "      border-color: transparent;\n",
              "      border-bottom-color: var(--fill-color);\n",
              "      border-left-color: var(--fill-color);\n",
              "    }\n",
              "    20% {\n",
              "      border-color: transparent;\n",
              "      border-left-color: var(--fill-color);\n",
              "      border-top-color: var(--fill-color);\n",
              "    }\n",
              "    30% {\n",
              "      border-color: transparent;\n",
              "      border-left-color: var(--fill-color);\n",
              "      border-top-color: var(--fill-color);\n",
              "      border-right-color: var(--fill-color);\n",
              "    }\n",
              "    40% {\n",
              "      border-color: transparent;\n",
              "      border-right-color: var(--fill-color);\n",
              "      border-top-color: var(--fill-color);\n",
              "    }\n",
              "    60% {\n",
              "      border-color: transparent;\n",
              "      border-right-color: var(--fill-color);\n",
              "    }\n",
              "    80% {\n",
              "      border-color: transparent;\n",
              "      border-right-color: var(--fill-color);\n",
              "      border-bottom-color: var(--fill-color);\n",
              "    }\n",
              "    90% {\n",
              "      border-color: transparent;\n",
              "      border-bottom-color: var(--fill-color);\n",
              "    }\n",
              "  }\n",
              "</style>\n",
              "\n",
              "      <script>\n",
              "        async function quickchart(key) {\n",
              "          const quickchartButtonEl =\n",
              "            document.querySelector('#' + key + ' button');\n",
              "          quickchartButtonEl.disabled = true;  // To prevent multiple clicks.\n",
              "          quickchartButtonEl.classList.add('colab-df-spinner');\n",
              "          try {\n",
              "            const charts = await google.colab.kernel.invokeFunction(\n",
              "                'suggestCharts', [key], {});\n",
              "          } catch (error) {\n",
              "            console.error('Error during call to suggestCharts:', error);\n",
              "          }\n",
              "          quickchartButtonEl.classList.remove('colab-df-spinner');\n",
              "          quickchartButtonEl.classList.add('colab-df-quickchart-complete');\n",
              "        }\n",
              "        (() => {\n",
              "          let quickchartButtonEl =\n",
              "            document.querySelector('#df-00fc5c86-2500-45f8-8945-d19ca9c9d2a2 button');\n",
              "          quickchartButtonEl.style.display =\n",
              "            google.colab.kernel.accessAllowed ? 'block' : 'none';\n",
              "        })();\n",
              "      </script>\n",
              "    </div>\n",
              "\n",
              "    </div>\n",
              "  </div>\n"
            ],
            "application/vnd.google.colaboratory.intrinsic+json": {
              "type": "dataframe"
            }
          },
          "metadata": {},
          "execution_count": 2
        }
      ]
    },
    {
      "cell_type": "markdown",
      "source": [
        "**Numerical and Categorical Data**"
      ],
      "metadata": {
        "id": "xgpy6rCo6tg3"
      }
    },
    {
      "cell_type": "code",
      "source": [
        "numeric_cols = train.select_dtypes(include=[\"int64\", \"float64\"])\n",
        "num_numeric = numeric_cols.shape[1]\n",
        "\n",
        "categorical_cols = train.select_dtypes(include=[\"object\", \"category\"])\n",
        "num_categorical = categorical_cols.shape[1]\n",
        "\n",
        "num_numeric, num_categorical\n",
        "\n",
        "print(\"Numeric columns:\", list(numeric_cols.columns))\n",
        "print(\"Categorical columns:\", list(categorical_cols.columns))"
      ],
      "metadata": {
        "id": "7ziJXlwTQIUv",
        "colab": {
          "base_uri": "https://localhost:8080/"
        },
        "outputId": "53f131a3-9d8b-437d-ed38-84d48eca80da"
      },
      "execution_count": null,
      "outputs": [
        {
          "output_type": "stream",
          "name": "stdout",
          "text": [
            "Numeric columns: ['Unnamed: 0', 'Id', 'MSSubClass', 'LotFrontage', 'LotArea', 'OverallQual', 'OverallCond', 'YearBuilt', 'YearRemodAdd', 'MasVnrArea', 'BsmtFinSF1', 'BsmtFinSF2', 'BsmtUnfSF', 'TotalBsmtSF', '1stFlrSF', '2ndFlrSF', 'LowQualFinSF', 'GrLivArea', 'BsmtFullBath', 'BsmtHalfBath', 'FullBath', 'HalfBath', 'BedroomAbvGr', 'KitchenAbvGr', 'TotRmsAbvGrd', 'Fireplaces', 'GarageYrBlt', 'GarageCars', 'GarageArea', 'WoodDeckSF', 'OpenPorchSF', 'EnclosedPorch', '3SsnPorch', 'ScreenPorch', 'PoolArea', 'MiscVal', 'MoSold', 'YrSold', 'SalePrice']\n",
            "Categorical columns: ['MSZoning', 'Street', 'Alley', 'LotShape', 'LandContour', 'Utilities', 'LotConfig', 'LandSlope', 'Neighborhood', 'Condition1', 'Condition2', 'BldgType', 'HouseStyle', 'RoofStyle', 'RoofMatl', 'Exterior1st', 'Exterior2nd', 'MasVnrType', 'ExterQual', 'ExterCond', 'Foundation', 'BsmtQual', 'BsmtCond', 'BsmtExposure', 'BsmtFinType1', 'BsmtFinType2', 'Heating', 'HeatingQC', 'CentralAir', 'Electrical', 'KitchenQual', 'Functional', 'FireplaceQu', 'GarageType', 'GarageFinish', 'GarageQual', 'GarageCond', 'PavedDrive', 'PoolQC', 'Fence', 'MiscFeature', 'SaleType', 'SaleCondition']\n"
          ]
        }
      ]
    },
    {
      "cell_type": "markdown",
      "source": [
        "**Identifying Missing Values**"
      ],
      "metadata": {
        "id": "US-Affg_6zQB"
      }
    },
    {
      "cell_type": "code",
      "source": [
        "train.isnull().sum()\n",
        "\n",
        "missing_cols = train.isnull().sum()[train.isnull().sum() > 0]\n",
        "print(missing_cols)"
      ],
      "metadata": {
        "id": "obA2FMiKQSaU",
        "colab": {
          "base_uri": "https://localhost:8080/"
        },
        "outputId": "dd95e3d4-bd25-4d5f-c951-4f1d19a45260"
      },
      "execution_count": null,
      "outputs": [
        {
          "output_type": "stream",
          "name": "stdout",
          "text": [
            "LotFrontage     186\n",
            "Alley           934\n",
            "MasVnrType      596\n",
            "MasVnrArea        6\n",
            "BsmtQual         25\n",
            "BsmtCond         25\n",
            "BsmtExposure     26\n",
            "BsmtFinType1     25\n",
            "BsmtFinType2     26\n",
            "Electrical        1\n",
            "FireplaceQu     465\n",
            "GarageType       61\n",
            "GarageYrBlt      61\n",
            "GarageFinish     61\n",
            "GarageQual       61\n",
            "GarageCond       61\n",
            "PoolQC          995\n",
            "Fence           815\n",
            "MiscFeature     964\n",
            "dtype: int64\n"
          ]
        }
      ]
    },
    {
      "cell_type": "markdown",
      "source": [
        "**Histogram - Sales Prices**\n"
      ],
      "metadata": {
        "id": "Qlvvf9Zw7CEu"
      }
    },
    {
      "cell_type": "code",
      "source": [
        "# Check the target variable (SalePrice)\n",
        "print(\"Sale Price Statistics:\")\n",
        "print(train['SalePrice'].describe())\n",
        "\n",
        "# Visualize sale price distribution\n",
        "plt.figure(figsize=(10, 6))\n",
        "plt.hist(train['SalePrice'], bins=50)\n",
        "plt.xlabel('Sale Price')\n",
        "plt.ylabel('Frequency')\n",
        "plt.title('Distribution of House Sale Prices')\n",
        "plt.show()"
      ],
      "metadata": {
        "id": "Gjj583YuQUcz",
        "colab": {
          "base_uri": "https://localhost:8080/",
          "height": 743
        },
        "outputId": "58f3b75f-a9c5-4783-fa5b-99c6f042ff3e"
      },
      "execution_count": null,
      "outputs": [
        {
          "output_type": "stream",
          "name": "stdout",
          "text": [
            "Sale Price Statistics:\n",
            "count      1000.000000\n",
            "mean     178403.271000\n",
            "std       71476.841901\n",
            "min       52500.000000\n",
            "25%      128987.500000\n",
            "50%      162000.000000\n",
            "75%      214000.000000\n",
            "max      485000.000000\n",
            "Name: SalePrice, dtype: float64\n"
          ]
        },
        {
          "output_type": "display_data",
          "data": {
            "text/plain": [
              "<Figure size 1000x600 with 1 Axes>"
            ],
            "image/png": "[encoded data removed]"
          },
          "metadata": {}
        }
      ]
    },
    {
      "cell_type": "markdown",
      "source": [
        "According to the histogram, distribution of sale price is right-skewed (long tail to the right). Most houses are between $100k-$200k and there are few expensive houses go up past $400k."
      ],
      "metadata": {
        "id": "X2rV3VbLDR53"
      }
    },
    {
      "cell_type": "markdown",
      "source": [
        "**Data Preprocessing**"
      ],
      "metadata": {
        "id": "3kpluDnu7O50"
      }
    },
    {
      "cell_type": "markdown",
      "source": [
        "### Removing Unnecessary Columns\n",
        "\n",
        "Unnamed: 0 and Id columns are dropped, because they are just index columns and don't provide predictive value for the price of houses."
      ],
      "metadata": {
        "id": "KNClMIH37dQh"
      }
    },
    {
      "cell_type": "code",
      "source": [
        "train_processed = train.copy()\n",
        "test_processed = test.copy()\n",
        "\n",
        "# Remove unnecessary columns\n",
        "columns_to_drop = ['Unnamed: 0', 'Id']\n",
        "\n",
        "train_processed = train.drop(columns=columns_to_drop)\n",
        "test_processed = test.drop(columns=columns_to_drop)\n",
        "\n",
        "print(f\"Training data shape after dropping: {train_processed.shape}\")\n",
        "print(f\"Test data shape after dropping: {test_processed.shape}\")"
      ],
      "metadata": {
        "id": "Xj7rhYjSQdJS",
        "colab": {
          "base_uri": "https://localhost:8080/"
        },
        "outputId": "23deb2b8-bea5-4e75-a264-dab4c6727107"
      },
      "execution_count": null,
      "outputs": [
        {
          "output_type": "stream",
          "name": "stdout",
          "text": [
            "Training data shape after dropping: (1000, 80)\n",
            "Test data shape after dropping: (446, 79)\n"
          ]
        }
      ]
    },
    {
      "cell_type": "markdown",
      "source": [
        "### Handling Missing Values\n",
        "\n",
        "After analyzing the missing data I noticed that some missing values are meaningful. Many missing values actually mean the feature doesn't exist (e.g., no pool, no garage, no basement).\n",
        "\n",
        "1. **Categorical \"NA\" features**: Fill with \"None\" because missing means the feature doesn't exist\n",
        "2. **LotFrontage**: Fill with median because it has some outliers\n",
        "3. **MasVnrArea**: Fill with 0 because no value means no masonry veneer\n",
        "4. **GarageYrBlt**: Fill with 0 since missing means no garage\n",
        "5. **Electrical**: Fill with mode since values are rarely missing"
      ],
      "metadata": {
        "id": "QXjiD7iN7jbC"
      }
    },
    {
      "cell_type": "code",
      "source": [
        "categorical_na_cols = ['Alley', 'BsmtQual', 'BsmtCond', 'BsmtExposure','BsmtFinType1', 'BsmtFinType2', 'FireplaceQu', 'GarageType', 'GarageFinish',\n",
        "                       'GarageQual', 'GarageCond', 'PoolQC', 'Fence', 'MiscFeature', 'MasVnrType']\n",
        "\n",
        "\n",
        "for col in categorical_na_cols:\n",
        "   train_processed[col] = train_processed[col].fillna('None')\n",
        "   test_processed[col] = test_processed[col].fillna('None')\n",
        "\n",
        "print(f\"Filled {len(categorical_na_cols)} categorical columns with 'None'\")\n",
        "\n",
        "\n",
        "median_lf = train_processed['LotFrontage'].median()\n",
        "train_processed['LotFrontage'] = train_processed['LotFrontage'].fillna(median_lf)\n",
        "test_processed['LotFrontage'] = test_processed['LotFrontage'].fillna(median_lf)\n",
        "print(f\"Filled LotFrontage with median: {median_lf:.2f} feet\")\n",
        "\n",
        "\n",
        "train_processed['MasVnrArea'] = train_processed['MasVnrArea'].fillna(0)\n",
        "test_processed['MasVnrArea'] = test_processed['MasVnrArea'].fillna(0)\n",
        "print(\"Filled MasVnrArea with 0\")\n",
        "\n",
        "\n",
        "train_processed['GarageYrBlt'] = train_processed['GarageYrBlt'].fillna(0)\n",
        "test_processed['GarageYrBlt'] = test_processed['GarageYrBlt'].fillna(0)\n",
        "print(\"Filled GarageYrBlt with 0\")\n",
        "\n",
        "\n",
        "if train_processed['Electrical'].isnull().sum() > 0:\n",
        "   mode_elec = train_processed['Electrical'].mode()[0]\n",
        "   train_processed['Electrical'] = train_processed['Electrical'].fillna(mode_elec)\n",
        "   print(f\"Filled Electrical with mode: {mode_elec}\")\n",
        "\n",
        "\n",
        "print(f\"\\nTraining missing values: {train_processed.isnull().sum().sum()}\")\n",
        "print(f\"Test missing values: {test_processed.isnull().sum().sum()}\")\n"
      ],
      "metadata": {
        "id": "6iDZ9QLsQlK1",
        "colab": {
          "base_uri": "https://localhost:8080/"
        },
        "outputId": "c7bc7806-ac25-4198-ed87-0d0b6acaa0de"
      },
      "execution_count": null,
      "outputs": [
        {
          "output_type": "stream",
          "name": "stdout",
          "text": [
            "Filled 15 categorical columns with 'None'\n",
            "Filled LotFrontage with median: 70.00 feet\n",
            "Filled MasVnrArea with 0\n",
            "Filled GarageYrBlt with 0\n",
            "Filled Electrical with mode: SBrkr\n",
            "\n",
            "Training missing values: 0\n",
            "Test missing values: 0\n"
          ]
        }
      ]
    },
    {
      "cell_type": "markdown",
      "source": [
        "###Feature Engineering\n",
        "\n",
        "This was done to create more meaningful features, because raw data doesn't have predictive power always. This makes the model more interpretable when new features are created which can be used for powerful prediction.\n",
        "\n"
      ],
      "metadata": {
        "id": "CVnpqw3-7qbx"
      }
    },
    {
      "cell_type": "code",
      "source": [
        "# Age of the house is more predictive than year built\n",
        "train_processed['HouseAge'] = train_processed['YrSold'] - train_processed['YearBuilt']\n",
        "test_processed['HouseAge'] = test_processed['YrSold'] - test_processed['YearBuilt']\n",
        "\n",
        "# Total bathrooms\n",
        "train_processed['TotalBath'] = (train_processed['FullBath'] +\n",
        "                                 0.5 * train_processed['HalfBath'] +\n",
        "                                 train_processed['BsmtFullBath'] +\n",
        "                                 0.5 * train_processed['BsmtHalfBath'])\n",
        "test_processed['TotalBath'] = (test_processed['FullBath'] +\n",
        "                                0.5 * test_processed['HalfBath'] +\n",
        "                                test_processed['BsmtFullBath'] +\n",
        "                                0.5 * test_processed['BsmtHalfBath'])\n",
        "\n",
        "\n",
        "# Total square footage\n",
        "train_processed['TotalSF'] = (train_processed['TotalBsmtSF'] +\n",
        "                               train_processed['1stFlrSF'] +\n",
        "                               train_processed['2ndFlrSF'])\n",
        "test_processed['TotalSF'] = (test_processed['TotalBsmtSF'] +\n",
        "                              test_processed['1stFlrSF'] +\n",
        "                              test_processed['2ndFlrSF'])\n",
        "\n",
        "\n",
        "# Years since remodel\n",
        "train_processed['YearsSinceRemod'] = train_processed['YrSold'] - train_processed['YearRemodAdd']\n",
        "test_processed['YearsSinceRemod'] = test_processed['YrSold'] - test_processed['YearRemodAdd']\n",
        "\n",
        "print(\"\\n Created new features: HouseAge, TotalBath, TotalSF, YearsSinceRemod\")"
      ],
      "metadata": {
        "id": "au2Quj39Qp-J",
        "colab": {
          "base_uri": "https://localhost:8080/"
        },
        "outputId": "81a0d48b-59f9-433b-e6bf-4872285d999e"
      },
      "execution_count": null,
      "outputs": [
        {
          "output_type": "stream",
          "name": "stdout",
          "text": [
            "\n",
            " Created new features: HouseAge, TotalBath, TotalSF, YearsSinceRemod\n"
          ]
        }
      ]
    },
    {
      "cell_type": "markdown",
      "source": [
        "### Handling Outliers in Features"
      ],
      "metadata": {
        "id": "OCBClu6T7z-X"
      }
    },
    {
      "cell_type": "code",
      "source": [
        "# numeric features in train\n",
        "num_cols = [c for c in train_processed.select_dtypes(include=[np.number]).columns\n",
        "            if c != \"SalePrice\"]\n",
        "\n",
        "for col in num_cols:\n",
        "    lower = train_processed[col].quantile(0.01)\n",
        "    upper = train_processed[col].quantile(0.98)\n",
        "    train_processed[col] = train_processed[col].clip(lower, upper)\n",
        "\n",
        "    # clip test if column exists there\n",
        "    if col in test_processed.columns:\n",
        "        test_processed[col] = test_processed[col].clip(lower, upper)\n",
        "\n",
        "print(\"Clipped numeric feature outliers at 1st/99th percentiles.\")\n"
      ],
      "metadata": {
        "id": "24vsAhYh7soD",
        "colab": {
          "base_uri": "https://localhost:8080/"
        },
        "outputId": "d54e3efd-216d-4ee4-cdc2-30732f8484d0"
      },
      "execution_count": null,
      "outputs": [
        {
          "output_type": "stream",
          "name": "stdout",
          "text": [
            "Clipped numeric feature outliers at 1st/99th percentiles.\n"
          ]
        }
      ]
    },
    {
      "cell_type": "markdown",
      "source": [
        "\n",
        "###Merge Rare Categories Under 'Other'\n",
        "\n",
        "Columns such as Neighborhood, Exterior1st and Exterior2nd had many categories, some appearing only once or twice. These rare categories were grouped under \"Other\" to prevent the model from overfitting to uncommon labels and to reduce the number of unnecessary columns created during one-hot encoding.\n",
        "\n"
      ],
      "metadata": {
        "id": "4GB755nllkRC"
      }
    },
    {
      "cell_type": "code",
      "source": [
        "def merge_rare(df, col, min_count=10):\n",
        "    vc = train_processed[col].value_counts()\n",
        "    rare_vals = vc[vc < min_count].index\n",
        "    df[col] = df[col].where(~df[col].isin(rare_vals), other='Other')\n",
        "\n",
        "cat_cols = train_processed.select_dtypes(include='object').columns\n",
        "for c in cat_cols:\n",
        "    merge_rare(train_processed, c, min_count=10)\n",
        "    if c in test_processed.columns:\n",
        "        merge_rare(test_processed, c, min_count=10)\n"
      ],
      "metadata": {
        "id": "egwlSx6EhqXL"
      },
      "execution_count": null,
      "outputs": []
    },
    {
      "cell_type": "markdown",
      "source": [
        "###Data Encoding\n",
        "\n"
      ],
      "metadata": {
        "id": "H3j477-K7zhA"
      }
    },
    {
      "cell_type": "code",
      "source": [
        "# Define a mapping for quality/condition features\n",
        "quality_map = {'Po': 1, 'Fa': 2, 'TA': 3, 'Gd': 4, 'Ex': 5, 'None': 0}\n",
        "\n",
        "ordinal_cols = [\n",
        "    \"ExterQual\", \"ExterCond\", \"BsmtQual\", \"BsmtCond\",\n",
        "    \"HeatingQC\", \"KitchenQual\", \"FireplaceQu\",\n",
        "    \"GarageQual\", \"GarageCond\", \"PoolQC\"\n",
        "]\n",
        "\n",
        "for col in ordinal_cols:\n",
        "    if col in train_processed.columns:\n",
        "        train_processed[col] = train_processed[col].map(quality_map)\n",
        "    if col in test_processed.columns:\n",
        "        test_processed[col] = test_processed[col].map(quality_map)\n",
        "\n",
        "print(\"Converted quality related features to ordinal\")"
      ],
      "metadata": {
        "id": "R1NPpuPVQyi1",
        "colab": {
          "base_uri": "https://localhost:8080/"
        },
        "outputId": "01a11e42-bf77-48f4-f66f-7a6c74793eed"
      },
      "execution_count": null,
      "outputs": [
        {
          "output_type": "stream",
          "name": "stdout",
          "text": [
            "Converted quality related features to ordinal\n"
          ]
        }
      ]
    },
    {
      "cell_type": "code",
      "source": [
        "# Get remaining categorical columns\n",
        "categorical_cols = train_processed.select_dtypes(include=['object']).columns.tolist()\n",
        "\n",
        "# Treat MSSubClass, MoSold, YrSold as categorical\n",
        "categorical_as_numeric = ['MSSubClass', 'MoSold', 'YrSold']\n",
        "for col in categorical_as_numeric:\n",
        "    train_processed[col] = train_processed[col].astype(str)\n",
        "    test_processed[col] = test_processed[col].astype(str)\n",
        "    if col not in categorical_cols:\n",
        "        categorical_cols.append(col)\n",
        "\n",
        "print(f\"Converting {len(categorical_cols)} categorical columns\")\n"
      ],
      "metadata": {
        "id": "xtukautLQ041",
        "colab": {
          "base_uri": "https://localhost:8080/"
        },
        "outputId": "2a38d60e-090f-4092-b1d6-44ce4115c269"
      },
      "execution_count": null,
      "outputs": [
        {
          "output_type": "stream",
          "name": "stdout",
          "text": [
            "Converting 36 categorical columns\n"
          ]
        }
      ]
    },
    {
      "cell_type": "code",
      "source": [
        "# Applying one hot encoding\n",
        "train_encoded = pd.get_dummies(train_processed, columns=categorical_cols, drop_first=True)\n",
        "test_encoded = pd.get_dummies(test_processed, columns=categorical_cols, drop_first=True)\n",
        "\n",
        "missing_cols = set(train_encoded.columns) - set(test_encoded.columns)\n",
        "for col in missing_cols:\n",
        "    if col != 'SalePrice':\n",
        "        test_encoded[col] = 0\n",
        "\n",
        "extra_cols = set(test_encoded.columns) - set(train_encoded.columns)\n",
        "test_encoded = test_encoded.drop(columns=list(extra_cols))\n",
        "\n",
        "test_encoded = test_encoded[train_encoded.drop('SalePrice', axis=1).columns]\n",
        "\n",
        "print(f\"Final Training shape: {train_encoded.shape}\")\n",
        "print(f\"Final Test shape: {test_encoded.shape}\")\n",
        "print(f\"Total features: {train_encoded.shape[1] - 1}\")"
      ],
      "metadata": {
        "id": "he0cLpBQQ7t0",
        "colab": {
          "base_uri": "https://localhost:8080/"
        },
        "outputId": "f67359c3-f1db-4517-db45-0dedc2a4e955"
      },
      "execution_count": null,
      "outputs": [
        {
          "output_type": "stream",
          "name": "stdout",
          "text": [
            "Final Training shape: (1000, 213)\n",
            "Final Test shape: (446, 212)\n",
            "Total features: 212\n"
          ]
        }
      ]
    },
    {
      "cell_type": "markdown",
      "source": [
        "###Train / Validation Split\n",
        "\n",
        "To evaluate model performance during development, I split the 1000 house training set into:\n",
        "- **Training subset**: 800 houses (80%) - used to train models\n",
        "- **Validation subset**: 200 houses (20%) - used to test model performance\n",
        "\n",
        "This split is necessary because the original test set doesn't include sale prices.\n",
        "I used random_state=42 to ensure same data split every time."
      ],
      "metadata": {
        "id": "24RSNgVp79FM"
      }
    },
    {
      "cell_type": "code",
      "source": [
        "y_train = train_encoded['SalePrice']\n",
        "X_train = train_encoded.drop('SalePrice', axis=1)\n",
        "X_test = test_encoded.copy()\n",
        "\n",
        "# Split training data into train and validation sets\n",
        "X_train_split, X_val_split, y_train_split, y_val_split = train_test_split(\n",
        "    X_train, y_train,\n",
        "    test_size=0.2,      # 20% for validation\n",
        "    random_state=42\n",
        ")\n",
        "\n",
        "print(\"Train shape:\", X_train_split.shape)\n",
        "print(\"Validation shape:\", X_val_split.shape)\n",
        "print(\"Test shape:\", X_test.shape)"
      ],
      "metadata": {
        "id": "vGK9ynTBRAca",
        "colab": {
          "base_uri": "https://localhost:8080/"
        },
        "outputId": "07898768-a2f0-4761-a2fe-48886b1df718"
      },
      "execution_count": null,
      "outputs": [
        {
          "output_type": "stream",
          "name": "stdout",
          "text": [
            "Train shape: (800, 212)\n",
            "Validation shape: (200, 212)\n",
            "Test shape: (446, 212)\n"
          ]
        }
      ]
    },
    {
      "cell_type": "markdown",
      "source": [
        "\n",
        "###Pre Selecting Top Correlated Features with Sale Price\n",
        "\n"
      ],
      "metadata": {
        "id": "yTKvHV_3WBhj"
      }
    },
    {
      "cell_type": "code",
      "source": [
        "# Compute Pearson correlation between each feature and SalePrice\n",
        "correlations = {}\n",
        "for col in X_train_split.columns:\n",
        "    try:\n",
        "        corr = np.corrcoef(X_train_split[col], y_train_split)[0, 1]\n",
        "        if not np.isnan(corr):\n",
        "            correlations[col] = abs(corr)\n",
        "    except Exception:\n",
        "        pass  # skip problematic columns\n",
        "\n",
        "# Sort correlations in descending order\n",
        "sorted_corr = sorted(correlations.items(), key=lambda x: x[1], reverse=True)\n",
        "\n",
        "# Pick top 100 features\n",
        "top_100_features = [col for col, _ in sorted_corr[:100]]\n",
        "\n",
        "# Display\n",
        "print(\"Top 100 features most correlated with SalePrice:\")\n",
        "for i, (col, corr) in enumerate(sorted_corr[:100], start=1):\n",
        "    print(f\"{i:2d}. {col:25s} | correlation = {corr:.3f}\")\n",
        "\n",
        "# Create reduced datasets\n",
        "X_train_split_reduced = X_train_split[top_100_features]\n",
        "X_val_split_reduced   = X_val_split[top_100_features]\n",
        "X_train_reduced       = X_train[top_100_features]\n",
        "X_test_reduced        = X_test[top_100_features]\n",
        "\n"
      ],
      "metadata": {
        "id": "anfpmQcnaTSY",
        "colab": {
          "base_uri": "https://localhost:8080/"
        },
        "outputId": "da3d42aa-5488-432a-d52d-d3df335df98d"
      },
      "execution_count": null,
      "outputs": [
        {
          "output_type": "stream",
          "name": "stdout",
          "text": [
            "Top 100 features most correlated with SalePrice:\n",
            " 1. TotalSF                   | correlation = 0.820\n",
            " 2. OverallQual               | correlation = 0.796\n",
            " 3. GrLivArea                 | correlation = 0.704\n",
            " 4. ExterQual                 | correlation = 0.690\n",
            " 5. KitchenQual               | correlation = 0.679\n",
            " 6. GarageCars                | correlation = 0.670\n",
            " 7. GarageArea                | correlation = 0.655\n",
            " 8. TotalBsmtSF               | correlation = 0.625\n",
            " 9. 1stFlrSF                  | correlation = 0.621\n",
            "10. TotalBath                 | correlation = 0.611\n",
            "11. BsmtQual                  | correlation = 0.607\n",
            "12. HouseAge                  | correlation = 0.555\n",
            "13. YearBuilt                 | correlation = 0.550\n",
            "14. FullBath                  | correlation = 0.541\n",
            "15. FireplaceQu               | correlation = 0.526\n",
            "16. YearsSinceRemod           | correlation = 0.522\n",
            "17. Foundation_PConc          | correlation = 0.519\n",
            "18. YearRemodAdd              | correlation = 0.517\n",
            "19. TotRmsAbvGrd              | correlation = 0.506\n",
            "20. Fireplaces                | correlation = 0.477\n",
            "21. BsmtFinType1_GLQ          | correlation = 0.451\n",
            "22. MasVnrArea                | correlation = 0.448\n",
            "23. Neighborhood_NridgHt      | correlation = 0.438\n",
            "24. GarageFinish_Unf          | correlation = 0.419\n",
            "25. LotArea                   | correlation = 0.384\n",
            "26. WoodDeckSF                | correlation = 0.366\n",
            "27. MasVnrType_None           | correlation = 0.365\n",
            "28. BsmtFinSF1                | correlation = 0.364\n",
            "29. Foundation_CBlock         | correlation = 0.361\n",
            "30. LotFrontage               | correlation = 0.360\n",
            "31. GarageType_Detchd         | correlation = 0.355\n",
            "32. MSSubClass_60             | correlation = 0.353\n",
            "33. SaleType_New              | correlation = 0.350\n",
            "34. OpenPorchSF               | correlation = 0.350\n",
            "35. SaleCondition_Partial     | correlation = 0.344\n",
            "36. Exterior2nd_VinylSd       | correlation = 0.342\n",
            "37. Exterior1st_VinylSd       | correlation = 0.336\n",
            "38. MSZoning_RM               | correlation = 0.334\n",
            "39. BsmtExposure_Gd           | correlation = 0.300\n",
            "40. MSZoning_RL               | correlation = 0.292\n",
            "41. BsmtExposure_No           | correlation = 0.290\n",
            "42. GarageYrBlt               | correlation = 0.288\n",
            "43. HalfBath                  | correlation = 0.285\n",
            "44. Neighborhood_NoRidge      | correlation = 0.275\n",
            "45. GarageType_None           | correlation = 0.262\n",
            "46. GarageFinish_None         | correlation = 0.262\n",
            "47. 2ndFlrSF                  | correlation = 0.254\n",
            "48. CentralAir_Y              | correlation = 0.254\n",
            "49. Electrical_SBrkr          | correlation = 0.254\n",
            "50. MSSubClass_30             | correlation = 0.249\n",
            "51. LotShape_Reg              | correlation = 0.247\n",
            "52. Neighborhood_OldTown      | correlation = 0.232\n",
            "53. BsmtFullBath              | correlation = 0.232\n",
            "54. PavedDrive_Y              | correlation = 0.224\n",
            "55. HouseStyle_2Story         | correlation = 0.223\n",
            "56. MasVnrType_Stone          | correlation = 0.222\n",
            "57. GarageType_BuiltIn        | correlation = 0.212\n",
            "58. Neighborhood_NAmes        | correlation = 0.210\n",
            "59. Fence_None                | correlation = 0.208\n",
            "60. BsmtUnfSF                 | correlation = 0.207\n",
            "61. Neighborhood_Edwards      | correlation = 0.204\n",
            "62. SaleType_WD               | correlation = 0.194\n",
            "63. GarageFinish_RFn          | correlation = 0.193\n",
            "64. Fence_MnPrv               | correlation = 0.188\n",
            "65. Exterior2nd_MetalSd       | correlation = 0.177\n",
            "66. RoofStyle_Hip             | correlation = 0.176\n",
            "67. BsmtFinType1_BLQ          | correlation = 0.176\n",
            "68. Exterior1st_MetalSd       | correlation = 0.176\n",
            "69. MSSubClass_50             | correlation = 0.173\n",
            "70. EnclosedPorch             | correlation = 0.166\n",
            "71. KitchenAbvGr              | correlation = 0.164\n",
            "72. Exterior1st_Wd Sdng       | correlation = 0.159\n",
            "73. Neighborhood_IDOTRR       | correlation = 0.157\n",
            "74. Alley_None                | correlation = 0.157\n",
            "75. Neighborhood_StoneBr      | correlation = 0.155\n",
            "76. Neighborhood_BrkSide      | correlation = 0.154\n",
            "77. BsmtFinType1_None         | correlation = 0.154\n",
            "78. BedroomAbvGr              | correlation = 0.152\n",
            "79. BsmtExposure_None         | correlation = 0.149\n",
            "80. Neighborhood_Timber       | correlation = 0.148\n",
            "81. Neighborhood_Sawyer       | correlation = 0.145\n",
            "82. Exterior2nd_Wd Sdng       | correlation = 0.144\n",
            "83. BsmtFinType2_None         | correlation = 0.138\n",
            "84. LotShape_IR2              | correlation = 0.133\n",
            "85. BldgType_2fmCon           | correlation = 0.132\n",
            "86. Heating_Other             | correlation = 0.130\n",
            "87. Neighborhood_MeadowV      | correlation = 0.129\n",
            "88. ScreenPorch               | correlation = 0.128\n",
            "89. Functional_Typ            | correlation = 0.127\n",
            "90. SaleCondition_Normal      | correlation = 0.126\n",
            "91. MSSubClass_190            | correlation = 0.125\n",
            "92. Neighborhood_Somerst      | correlation = 0.125\n",
            "93. BldgType_Duplex           | correlation = 0.124\n",
            "94. MSSubClass_90             | correlation = 0.124\n",
            "95. Exterior2nd_CmentBd       | correlation = 0.121\n",
            "96. Condition1_PosN           | correlation = 0.119\n",
            "97. Condition1_Feedr          | correlation = 0.117\n",
            "98. Exterior1st_HdBoard       | correlation = 0.117\n",
            "99. LandContour_HLS           | correlation = 0.113\n",
            "100. MSSubClass_160            | correlation = 0.112\n"
          ]
        },
        {
          "output_type": "stream",
          "name": "stderr",
          "text": [
            "/usr/local/lib/python3.12/dist-packages/numpy/lib/_function_base_impl.py:2922: RuntimeWarning: invalid value encountered in divide\n",
            "  c /= stddev[:, None]\n",
            "/usr/local/lib/python3.12/dist-packages/numpy/lib/_function_base_impl.py:2923: RuntimeWarning: invalid value encountered in divide\n",
            "  c /= stddev[None, :]\n"
          ]
        }
      ]
    },
    {
      "cell_type": "markdown",
      "source": [
        "### Best Subset Selection with Forward Selection"
      ],
      "metadata": {
        "id": "rcICskbkaLpu"
      }
    },
    {
      "cell_type": "code",
      "source": [
        "def cv_rmse(X, y, feats, n_splits=5):\n",
        "    kf = KFold(n_splits=n_splits, shuffle=True, random_state=42)\n",
        "    neg_mse = cross_val_score(LinearRegression(), X[feats], y,\n",
        "                              scoring=make_scorer(mean_squared_error, greater_is_better=False),\n",
        "                              cv=kf)\n",
        "    return np.sqrt(-neg_mse).mean()\n",
        "\n",
        "remaining = list(X_train_split_reduced.columns)\n",
        "selected, rmse_valid_path, rmse_train_path = [], [], []\n",
        "best_cv = np.inf\n",
        "\n",
        "while remaining:\n",
        "    scores = []\n",
        "    for f in remaining:\n",
        "        feats = selected + [f]\n",
        "        model = LinearRegression().fit(X_train_split_reduced[feats], y_train_split)\n",
        "        val_rmse = cv_rmse(X_train_split_reduced, y_train_split, feats, n_splits=5)\n",
        "        train_rmse = np.sqrt(mean_squared_error(y_train_split, model.predict(X_train_split_reduced[feats])))\n",
        "        scores.append((val_rmse, train_rmse, f))\n",
        "    # pick best feature for this round\n",
        "    scores.sort(key=lambda x: x[0])\n",
        "    best_val, best_train, best_feat = scores[0]\n",
        "    selected.append(best_feat)\n",
        "    remaining.remove(best_feat)\n",
        "    rmse_valid_path.append(best_val)\n",
        "    rmse_train_path.append(best_train)\n",
        "    print(f\"Added {best_feat:25s} | Train RMSE: {best_train:8.2f} | CV RMSE: {best_val:8.2f}\")\n",
        "\n",
        "best_k = np.argmin(rmse_valid_path) + 1\n",
        "best_features = selected[:best_k]\n",
        "print(\"\\nOptimal number of features:\", best_k)\n",
        "print(\"Best feature subset:\", best_features)\n"
      ],
      "metadata": {
        "id": "hE1Obb6Ye8Qv",
        "colab": {
          "base_uri": "https://localhost:8080/"
        },
        "outputId": "6bedcf7b-c5ae-461c-9ebd-9404bfb4f2d4"
      },
      "execution_count": null,
      "outputs": [
        {
          "output_type": "stream",
          "name": "stdout",
          "text": [
            "Added TotalSF                   | Train RMSE: 40961.45 | CV RMSE: 40972.76\n",
            "Added OverallQual               | Train RMSE: 33594.96 | CV RMSE: 33592.03\n",
            "Added KitchenQual               | Train RMSE: 31729.68 | CV RMSE: 31793.63\n",
            "Added BsmtUnfSF                 | Train RMSE: 30267.49 | CV RMSE: 30343.81\n",
            "Added LotArea                   | Train RMSE: 29482.15 | CV RMSE: 29589.79\n",
            "Added Neighborhood_NridgHt      | Train RMSE: 28682.55 | CV RMSE: 28846.94\n",
            "Added SaleType_New              | Train RMSE: 28105.78 | CV RMSE: 28316.00\n",
            "Added GarageCars                | Train RMSE: 27706.16 | CV RMSE: 27974.35\n",
            "Added KitchenAbvGr              | Train RMSE: 27297.58 | CV RMSE: 27627.74\n",
            "Added BsmtExposure_No           | Train RMSE: 26925.43 | CV RMSE: 27274.09\n",
            "Added Neighborhood_NoRidge      | Train RMSE: 26435.63 | CV RMSE: 26961.35\n",
            "Added SaleCondition_Normal      | Train RMSE: 26208.59 | CV RMSE: 26774.55\n",
            "Added LotShape_IR2              | Train RMSE: 25990.24 | CV RMSE: 26583.89\n",
            "Added Functional_Typ            | Train RMSE: 25817.25 | CV RMSE: 26417.25\n",
            "Added GarageType_None           | Train RMSE: 25629.71 | CV RMSE: 26247.19\n",
            "Added BsmtFinType1_None         | Train RMSE: 25467.56 | CV RMSE: 26115.12\n",
            "Added BsmtExposure_Gd           | Train RMSE: 25233.79 | CV RMSE: 25951.94\n",
            "Added HalfBath                  | Train RMSE: 25108.06 | CV RMSE: 25825.89\n",
            "Added ExterQual                 | Train RMSE: 24990.79 | CV RMSE: 25716.83\n",
            "Added MasVnrType_None           | Train RMSE: 24906.82 | CV RMSE: 25629.18\n",
            "Added CentralAir_Y              | Train RMSE: 24792.95 | CV RMSE: 25557.25\n",
            "Added Exterior1st_MetalSd       | Train RMSE: 24749.09 | CV RMSE: 25498.62\n",
            "Added BsmtQual                  | Train RMSE: 24666.62 | CV RMSE: 25434.83\n",
            "Added Fireplaces                | Train RMSE: 24566.70 | CV RMSE: 25357.21\n",
            "Added MSSubClass_160            | Train RMSE: 24476.08 | CV RMSE: 25312.16\n",
            "Added Neighborhood_Somerst      | Train RMSE: 24394.36 | CV RMSE: 25220.83\n",
            "Added Alley_None                | Train RMSE: 24359.02 | CV RMSE: 25183.00\n",
            "Added GarageFinish_RFn          | Train RMSE: 24299.08 | CV RMSE: 25136.35\n",
            "Added Condition1_Feedr          | Train RMSE: 24131.57 | CV RMSE: 25090.45\n",
            "Added Neighborhood_StoneBr      | Train RMSE: 23971.71 | CV RMSE: 25050.52\n",
            "Added LandContour_HLS           | Train RMSE: 23855.32 | CV RMSE: 25024.15\n",
            "Added SaleCondition_Partial     | Train RMSE: 23812.94 | CV RMSE: 25008.31\n",
            "Added WoodDeckSF                | Train RMSE: 23756.53 | CV RMSE: 24994.97\n",
            "Added Neighborhood_BrkSide      | Train RMSE: 23721.58 | CV RMSE: 24982.73\n",
            "Added Exterior1st_Wd Sdng       | Train RMSE: 23697.87 | CV RMSE: 24971.23\n",
            "Added Exterior2nd_Wd Sdng       | Train RMSE: 23602.46 | CV RMSE: 24852.38\n",
            "Added MSSubClass_60             | Train RMSE: 23583.46 | CV RMSE: 24843.73\n",
            "Added TotalBsmtSF               | Train RMSE: 23451.40 | CV RMSE: 24784.82\n",
            "Added GrLivArea                 | Train RMSE: 23261.27 | CV RMSE: 24733.58\n",
            "Added BedroomAbvGr              | Train RMSE: 23228.02 | CV RMSE: 24712.95\n",
            "Added TotRmsAbvGrd              | Train RMSE: 23194.56 | CV RMSE: 24662.64\n",
            "Added ScreenPorch               | Train RMSE: 23191.35 | CV RMSE: 24655.09\n",
            "Added 2ndFlrSF                  | Train RMSE: 23186.45 | CV RMSE: 24648.72\n",
            "Added GarageType_BuiltIn        | Train RMSE: 23136.55 | CV RMSE: 24647.08\n",
            "Added GarageFinish_None         | Train RMSE: 23136.55 | CV RMSE: 24647.08\n",
            "Added Neighborhood_MeadowV      | Train RMSE: 23117.48 | CV RMSE: 24649.26\n",
            "Added Exterior2nd_CmentBd       | Train RMSE: 23049.22 | CV RMSE: 24604.80\n",
            "Added MSSubClass_190            | Train RMSE: 23035.40 | CV RMSE: 24605.98\n",
            "Added BldgType_2fmCon           | Train RMSE: 23004.78 | CV RMSE: 24594.21\n",
            "Added LotShape_Reg              | Train RMSE: 22999.61 | CV RMSE: 24595.18\n",
            "Added Fence_None                | Train RMSE: 22998.74 | CV RMSE: 24602.00\n",
            "Added BsmtFinType1_BLQ          | Train RMSE: 22998.28 | CV RMSE: 24610.63\n",
            "Added BsmtFinType1_GLQ          | Train RMSE: 22990.01 | CV RMSE: 24618.72\n",
            "Added Exterior2nd_MetalSd       | Train RMSE: 22976.84 | CV RMSE: 24627.54\n",
            "Added MSZoning_RM               | Train RMSE: 22936.03 | CV RMSE: 24636.85\n",
            "Added Neighborhood_IDOTRR       | Train RMSE: 22928.07 | CV RMSE: 24632.38\n",
            "Added BsmtExposure_None         | Train RMSE: 22924.54 | CV RMSE: 24642.56\n",
            "Added YearsSinceRemod           | Train RMSE: 22882.86 | CV RMSE: 24653.17\n",
            "Added MasVnrType_Stone          | Train RMSE: 22832.02 | CV RMSE: 24658.31\n",
            "Added Neighborhood_Edwards      | Train RMSE: 22715.74 | CV RMSE: 24668.95\n",
            "Added FullBath                  | Train RMSE: 22693.04 | CV RMSE: 24676.88\n",
            "Added Neighborhood_NAmes        | Train RMSE: 22651.15 | CV RMSE: 24681.04\n",
            "Added Fence_MnPrv               | Train RMSE: 22641.01 | CV RMSE: 24676.11\n",
            "Added HouseStyle_2Story         | Train RMSE: 22605.99 | CV RMSE: 24691.40\n",
            "Added GarageArea                | Train RMSE: 22598.62 | CV RMSE: 24709.36\n",
            "Added MSSubClass_30             | Train RMSE: 22577.72 | CV RMSE: 24734.77\n",
            "Added Exterior2nd_VinylSd       | Train RMSE: 22513.31 | CV RMSE: 24749.00\n",
            "Added Exterior1st_HdBoard       | Train RMSE: 22510.17 | CV RMSE: 24753.59\n",
            "Added Neighborhood_Sawyer       | Train RMSE: 22506.54 | CV RMSE: 24770.14\n",
            "Added EnclosedPorch             | Train RMSE: 22504.50 | CV RMSE: 24791.75\n",
            "Added SaleType_WD               | Train RMSE: 22499.01 | CV RMSE: 24814.21\n",
            "Added Condition1_PosN           | Train RMSE: 22496.33 | CV RMSE: 24839.26\n",
            "Added Neighborhood_OldTown      | Train RMSE: 22467.09 | CV RMSE: 24867.38\n",
            "Added GarageType_Detchd         | Train RMSE: 22444.10 | CV RMSE: 24893.19\n",
            "Added HouseAge                  | Train RMSE: 22438.42 | CV RMSE: 24919.11\n",
            "Added OpenPorchSF               | Train RMSE: 22424.41 | CV RMSE: 24948.96\n",
            "Added LotFrontage               | Train RMSE: 22418.15 | CV RMSE: 24982.72\n",
            "Added BsmtFinType2_None         | Train RMSE: 22373.50 | CV RMSE: 25016.72\n",
            "Added Electrical_SBrkr          | Train RMSE: 22362.64 | CV RMSE: 25048.18\n",
            "Added Foundation_CBlock         | Train RMSE: 22352.21 | CV RMSE: 25088.01\n",
            "Added Foundation_PConc          | Train RMSE: 22319.14 | CV RMSE: 25099.53\n",
            "Added BsmtFinSF1                | Train RMSE: 22224.50 | CV RMSE: 25137.17\n",
            "Added PavedDrive_Y              | Train RMSE: 22220.74 | CV RMSE: 25178.23\n",
            "Added Heating_Other             | Train RMSE: 22217.90 | CV RMSE: 25218.46\n",
            "Added BsmtFullBath              | Train RMSE: 22208.47 | CV RMSE: 25271.89\n",
            "Added TotalBath                 | Train RMSE: 22206.73 | CV RMSE: 25307.67\n",
            "Added Exterior1st_VinylSd       | Train RMSE: 22179.57 | CV RMSE: 25363.53\n",
            "Added GarageFinish_Unf          | Train RMSE: 22175.40 | CV RMSE: 25418.14\n",
            "Added BldgType_Duplex           | Train RMSE: 22167.77 | CV RMSE: 25484.66\n",
            "Added MSSubClass_90             | Train RMSE: 22167.77 | CV RMSE: 25484.66\n",
            "Added YearRemodAdd              | Train RMSE: 22160.04 | CV RMSE: 25552.42\n",
            "Added RoofStyle_Hip             | Train RMSE: 22155.22 | CV RMSE: 25621.23\n",
            "Added MasVnrArea                | Train RMSE: 22151.92 | CV RMSE: 25688.78\n",
            "Added MSSubClass_50             | Train RMSE: 22145.21 | CV RMSE: 25771.01\n",
            "Added Neighborhood_Timber       | Train RMSE: 22140.35 | CV RMSE: 25867.19\n",
            "Added YearBuilt                 | Train RMSE: 22077.68 | CV RMSE: 25964.64\n",
            "Added FireplaceQu               | Train RMSE: 22035.47 | CV RMSE: 26061.77\n",
            "Added GarageYrBlt               | Train RMSE: 22027.07 | CV RMSE: 26145.54\n",
            "Added MSZoning_RL               | Train RMSE: 22018.41 | CV RMSE: 26254.22\n",
            "Added 1stFlrSF                  | Train RMSE: 21712.34 | CV RMSE: 26476.52\n",
            "\n",
            "Optimal number of features: 49\n",
            "Best feature subset: ['TotalSF', 'OverallQual', 'KitchenQual', 'BsmtUnfSF', 'LotArea', 'Neighborhood_NridgHt', 'SaleType_New', 'GarageCars', 'KitchenAbvGr', 'BsmtExposure_No', 'Neighborhood_NoRidge', 'SaleCondition_Normal', 'LotShape_IR2', 'Functional_Typ', 'GarageType_None', 'BsmtFinType1_None', 'BsmtExposure_Gd', 'HalfBath', 'ExterQual', 'MasVnrType_None', 'CentralAir_Y', 'Exterior1st_MetalSd', 'BsmtQual', 'Fireplaces', 'MSSubClass_160', 'Neighborhood_Somerst', 'Alley_None', 'GarageFinish_RFn', 'Condition1_Feedr', 'Neighborhood_StoneBr', 'LandContour_HLS', 'SaleCondition_Partial', 'WoodDeckSF', 'Neighborhood_BrkSide', 'Exterior1st_Wd Sdng', 'Exterior2nd_Wd Sdng', 'MSSubClass_60', 'TotalBsmtSF', 'GrLivArea', 'BedroomAbvGr', 'TotRmsAbvGrd', 'ScreenPorch', '2ndFlrSF', 'GarageType_BuiltIn', 'GarageFinish_None', 'Neighborhood_MeadowV', 'Exterior2nd_CmentBd', 'MSSubClass_190', 'BldgType_2fmCon']\n"
          ]
        }
      ]
    },
    {
      "cell_type": "markdown",
      "source": [
        "**Demonstration of Overfitting and Underfitting**\n",
        "\n"
      ],
      "metadata": {
        "id": "ng4m2emfKU-s"
      }
    },
    {
      "cell_type": "code",
      "source": [
        "plt.figure(figsize=(8,5))\n",
        "plt.plot(range(1, len(rmse_train_path)+1), rmse_train_path, marker='o', label='Training RMSE')\n",
        "plt.plot(range(1, len(rmse_valid_path)+1), rmse_valid_path, marker='o', label='Validation RMSE')\n",
        "\n",
        "# highlight optimal point\n",
        "plt.axvline(best_k, color='gray', linestyle='--', label=f'Optimal = {best_k} features')\n",
        "plt.scatter(best_k, rmse_valid_path[best_k-1], color='red', zorder=5)\n",
        "plt.text(best_k+0.3, rmse_valid_path[best_k-1]+0.3, 'Optimal model', color='red')\n",
        "\n",
        "plt.title('Demonstration of Overfitting and Underfitting')\n",
        "plt.xlabel('Number of Selected Features')\n",
        "plt.ylabel('RMSE')\n",
        "plt.legend()\n",
        "plt.grid(True)\n",
        "plt.show()\n",
        "\n",
        "print(f\"Optimal number of features: {best_k}\")\n",
        "print(f\"Training RMSE at best k:  {rmse_train_path[best_k-1]:.2f}\")\n",
        "print(f\"Validation RMSE at best k: {rmse_valid_path[best_k-1]:.2f}\")\n"
      ],
      "metadata": {
        "id": "JfONXm6oMI7z",
        "colab": {
          "base_uri": "https://localhost:8080/",
          "height": 541
        },
        "outputId": "18bda3b0-abb9-49c7-b5da-8e77849d721d"
      },
      "execution_count": null,
      "outputs": [
        {
          "output_type": "display_data",
          "data": {
            "text/plain": [
              "<Figure size 800x500 with 1 Axes>"
            ],
            "image/png": "[encoded data removed]"
          },
          "metadata": {}
        },
        {
          "output_type": "stream",
          "name": "stdout",
          "text": [
            "Optimal number of features: 49\n",
            "Training RMSE at best k:  23004.78\n",
            "Validation RMSE at best k: 24594.21\n"
          ]
        }
      ]
    },
    {
      "cell_type": "markdown",
      "source": [
        "Initially, both errors reduced as the model captured important patterns, however when too many variables were added, the model fit the training data better but performed worse on new data showing a clear sign of overfitting. This shows that simpler models can often make more reliable predictions and adding more features does not always improve performance.\n"
      ],
      "metadata": {
        "id": "eRlPpY-0avOt"
      }
    },
    {
      "cell_type": "markdown",
      "source": [
        "**Evaluate Final Model with Full Training Data Set**"
      ],
      "metadata": {
        "id": "PWXyPj5OF_w8"
      }
    },
    {
      "cell_type": "code",
      "source": [
        "# Combine training and validation splits for final model training\n",
        "X_full_train = pd.concat([X_train_split_reduced, X_val_split_reduced])\n",
        "y_full_train = pd.concat([y_train_split, y_val_split])\n",
        "\n",
        "# Train the model again using only the selected features\n",
        "final_model = LinearRegression()\n",
        "final_model.fit(X_full_train[best_features], y_full_train)\n",
        "\n",
        "print(\"Final model trained on full dataset using selected features.\")\n",
        "\n",
        "# Evaluate performance on full training data\n",
        "y_full_pred = final_model.predict(X_full_train[best_features])\n",
        "train_rmse_final = np.sqrt(mean_squared_error(y_full_train, y_full_pred))\n",
        "\n",
        "print(\"\\nPerformance on Training Data:\")\n",
        "print(f\"  RMSE: ${train_rmse_final:,.2f}\")"
      ],
      "metadata": {
        "id": "xGqZmTVSGAa2",
        "colab": {
          "base_uri": "https://localhost:8080/"
        },
        "outputId": "acfcc677-22f6-4948-fdad-daa2bc316de1"
      },
      "execution_count": null,
      "outputs": [
        {
          "output_type": "stream",
          "name": "stdout",
          "text": [
            "Final model trained on full dataset using selected features.\n",
            "\n",
            "Performance on Training Data:\n",
            "  RMSE: $23,859.07\n"
          ]
        }
      ]
    },
    {
      "cell_type": "code",
      "source": [
        "# Predict on test data\n",
        "X_test_final = X_test_reduced[best_features]\n",
        "y_test_pred = final_model.predict(X_test_final)\n",
        "\n",
        "print(\"\\nTest Predictions Summary:\")\n",
        "print(f\"  Total predictions: {len(y_test_pred)}\")\n",
        "print(f\"  Mean price:   ${y_test_pred.mean():,.2f}\")\n",
        "print(f\"  Median price: ${np.median(y_test_pred):,.2f}\")\n",
        "print(f\"  Min price:    ${y_test_pred.min():,.2f}\")\n",
        "print(f\"  Max price:    ${y_test_pred.max():,.2f}\")"
      ],
      "metadata": {
        "id": "xEgbeZZril_A",
        "colab": {
          "base_uri": "https://localhost:8080/"
        },
        "outputId": "f7c80ec4-6531-4857-a025-c08f6dfbfa9e"
      },
      "execution_count": null,
      "outputs": [
        {
          "output_type": "stream",
          "name": "stdout",
          "text": [
            "\n",
            "Test Predictions Summary:\n",
            "  Total predictions: 446\n",
            "  Mean price:   $177,701.62\n",
            "  Median price: $167,076.47\n",
            "  Min price:    $36,747.66\n",
            "  Max price:    $389,578.54\n"
          ]
        }
      ]
    },
    {
      "cell_type": "markdown",
      "source": [
        "**Create Submission File for Gradescope**"
      ],
      "metadata": {
        "id": "6MC5ny3oY43Q"
      }
    },
    {
      "cell_type": "code",
      "source": [
        "list_predictions = y_test_pred.tolist()\n",
        "rounded_list_predictions = [int(x) for x in list_predictions]\n",
        "print(rounded_list_predictions)\n",
        "with open(\"calculator.py\", \"w\") as f:\n",
        "    f.write(\"def my_answer_list():\\n\")\n",
        "    f.write(\"    return \" + str(rounded_list_predictions) + \"\\n\")\n",
        "\n",
        "# Download for submission\n",
        "from google.colab import files\n",
        "files.download(\"calculator.py\")"
      ],
      "metadata": {
        "id": "pyY-xrxxY2dG",
        "colab": {
          "base_uri": "https://localhost:8080/",
          "height": 55
        },
        "outputId": "69fcca26-bb4c-4d77-84ad-47e735d5833e"
      },
      "execution_count": null,
      "outputs": [
        {
          "output_type": "stream",
          "name": "stdout",
          "text": [
            "[181864, 133486, 110932, 156899, 106733, 253162, 36747, 196395, 144957, 142955, 127641, 296070, 259461, 168326, 162888, 388791, 109687, 193929, 208863, 79299, 106664, 180581, 166693, 198745, 116031, 130892, 186667, 193086, 187507, 113990, 116586, 166602, 319408, 222931, 156092, 183973, 72154, 147545, 224751, 218466, 154474, 166780, 201006, 160066, 137289, 103409, 117115, 229822, 281208, 161235, 270207, 160580, 99558, 221490, 177989, 182625, 105655, 170571, 146517, 122018, 116404, 144289, 144009, 124444, 208049, 218360, 187337, 213154, 279328, 92781, 207297, 241865, 104346, 232232, 167401, 203324, 119373, 195246, 103976, 153188, 124812, 185500, 235201, 238934, 110122, 228170, 263490, 119232, 266242, 174070, 182041, 187313, 325082, 154534, 173633, 87169, 147147, 202925, 133263, 64048, 213113, 117247, 276926, 145009, 103190, 125721, 209192, 131697, 270362, 341022, 208917, 199268, 77502, 134447, 106253, 129662, 143662, 218408, 264968, 295649, 258482, 230631, 318279, 154471, 97793, 193306, 196556, 108461, 220428, 134105, 205088, 177903, 244979, 149049, 118805, 194878, 196129, 130432, 329294, 126152, 80552, 174726, 160639, 276955, 168416, 110835, 215096, 140572, 238342, 145851, 219310, 163257, 128334, 152942, 146870, 379892, 225514, 155383, 389578, 117925, 237966, 223189, 130525, 187939, 125198, 129964, 271733, 113750, 120086, 234145, 128247, 283216, 161876, 154115, 113124, 143595, 285404, 121309, 240915, 90423, 384765, 117861, 150828, 105081, 224351, 148190, 105935, 142343, 139378, 124772, 183368, 304590, 143926, 147551, 167372, 77161, 205045, 360807, 186924, 202685, 174908, 99793, 150441, 322856, 130364, 243219, 174932, 163453, 293249, 100103, 150357, 141052, 125729, 287505, 150892, 198933, 246649, 83177, 64596, 108562, 149721, 205066, 275941, 145761, 294492, 184842, 159600, 147536, 235643, 166658, 113043, 258876, 226733, 128945, 134801, 164058, 176628, 171815, 216116, 165956, 266289, 210830, 160475, 144423, 89587, 195646, 222606, 136882, 76693, 202948, 137921, 179780, 175155, 141327, 159287, 206985, 201672, 154039, 143750, 130403, 90932, 174026, 118150, 314254, 224359, 102327, 148209, 143616, 132512, 169553, 166206, 73017, 134548, 120231, 239205, 133615, 82332, 162986, 182928, 172162, 160572, 218016, 228187, 295009, 90414, 183510, 253721, 123869, 115074, 165547, 131310, 127453, 161589, 87097, 120527, 177788, 246096, 206406, 172663, 164835, 133730, 223727, 84570, 159953, 176188, 162385, 295968, 119882, 296569, 226172, 101064, 255709, 267570, 137153, 156727, 195246, 180075, 245640, 170065, 226410, 100294, 186084, 126607, 131518, 120395, 188936, 159857, 226887, 165279, 183337, 169124, 145000, 122688, 54092, 116615, 326325, 129124, 198816, 116626, 219675, 82450, 171553, 216404, 145515, 175737, 231707, 324813, 162651, 164058, 210418, 162219, 223067, 118417, 129788, 147852, 192639, 202940, 182478, 162008, 240146, 158531, 77979, 202951, 265174, 202104, 280736, 182524, 207873, 128759, 130854, 211582, 140929, 158578, 199000, 146130, 197137, 243867, 208196, 181070, 117434, 283945, 168055, 259247, 169542, 174337, 92835, 150477, 120738, 110784, 141319, 304814, 318230, 232074, 152654, 176355, 205652, 108905, 210923, 266093, 97608, 73580, 237147, 111429, 129790, 104791, 232097, 197840, 239544, 246993, 207053, 292487, 181677, 150058, 175004, 197784, 104785, 256760, 191288, 235370, 103027, 68630, 127392, 327887, 119379, 122856, 159103, 175152, 198032, 280150, 122802, 81697, 312139, 215967, 152959, 197025, 174115, 346650, 300315, 90511, 91031, 263374, 164039, 216763, 226616, 156564, 170097]\n"
          ]
        },
        {
          "output_type": "display_data",
          "data": {
            "text/plain": [
              "<IPython.core.display.Javascript object>"
            ],
            "application/javascript": [
              "\n",
              "    async function download(id, filename, size) {\n",
              "      if (!google.colab.kernel.accessAllowed) {\n",
              "        return;\n",
              "      }\n",
              "      const div = document.createElement('div');\n",
              "      const label = document.createElement('label');\n",
              "      label.textContent = `Downloading \"${filename}\": `;\n",
              "      div.appendChild(label);\n",
              "      const progress = document.createElement('progress');\n",
              "      progress.max = size;\n",
              "      div.appendChild(progress);\n",
              "      document.body.appendChild(div);\n",
              "\n",
              "      const buffers = [];\n",
              "      let downloaded = 0;\n",
              "\n",
              "      const channel = await google.colab.kernel.comms.open(id);\n",
              "      // Send a message to notify the kernel that we're ready.\n",
              "      channel.send({})\n",
              "\n",
              "      for await (const message of channel.messages) {\n",
              "        // Send a message to notify the kernel that we're ready.\n",
              "        channel.send({})\n",
              "        if (message.buffers) {\n",
              "          for (const buffer of message.buffers) {\n",
              "            buffers.push(buffer);\n",
              "            downloaded += buffer.byteLength;\n",
              "            progress.value = downloaded;\n",
              "          }\n",
              "        }\n",
              "      }\n",
              "      const blob = new Blob(buffers, {type: 'application/binary'});\n",
              "      const a = document.createElement('a');\n",
              "      a.href = window.URL.createObjectURL(blob);\n",
              "      a.download = filename;\n",
              "      div.appendChild(a);\n",
              "      a.click();\n",
              "      div.remove();\n",
              "    }\n",
              "  "
            ]
          },
          "metadata": {}
        },
        {
          "output_type": "display_data",
          "data": {
            "text/plain": [
              "<IPython.core.display.Javascript object>"
            ],
            "application/javascript": [
              "download(\"download_c0b8a057-2f3a-4daf-a46a-c46345a8617a\", \"calculator.py\", 3569)"
            ]
          },
          "metadata": {}
        }
      ]
    }
  ]
}